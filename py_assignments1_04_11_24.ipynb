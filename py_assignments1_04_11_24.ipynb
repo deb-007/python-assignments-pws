{
  "nbformat": 4,
  "nbformat_minor": 0,
  "metadata": {
    "colab": {
      "provenance": []
    },
    "kernelspec": {
      "name": "python3",
      "display_name": "Python 3"
    },
    "language_info": {
      "name": "python"
    }
  },
  "cells": [
    {
      "cell_type": "code",
      "execution_count": null,
      "metadata": {
        "id": "El-a7qzGP_Sr"
      },
      "outputs": [],
      "source": []
    },
    {
      "cell_type": "markdown",
      "source": [
        "1. **Explain the key features of Python that make it a popular choice for programming0**\n",
        "\n",
        "There are ample of reasons to choose python, Im just mentioning the few over here.\n",
        "1. Python uses simple syntax, which is close to natural language,executes code line-by-line, which is useful for debugging and testing.\n",
        "2. Extensive Libraries: Python has powerful libraries like NumPy, Pandas, Matplotlib, and Seaborn tailored for data analytics.\n",
        "3. Community Support: Python has a vast and active community, offering extensive resources, tutorials, and forums.\n",
        "4. Automation and Customization: Python scripts can automate tasks in data analytics pipelines.\n",
        "5. Data Visualization: Libraries like Plotly and Bokeh provide interactive visualizations, making Python ideal for data analysis.\n",
        "\n",
        "\n",
        "2. **Describe the role of predefined keywords in Python and provide examples of how they are used in a program**\n",
        "\n",
        "In Python, predefined keywords are reserved words that have a specific meaning and purpose. These keywords are integral to the Python language's syntax and cannot be used as variable names, function names, or any other identifier.\n",
        "\n",
        "some of the examples are:\n",
        "if, elif, else - Conditional statements.\n",
        "for, while- Looping constructs.\n",
        "break, continue, pass-  Managing loop execution.\n",
        "true, faulse - retunrn boolean value.\n",
        "None represent the absence of a value.\n",
        "try, except, finally etc.\n",
        "\n",
        "\n",
        "\n"
      ],
      "metadata": {
        "id": "G6Ly2UoCSAM5"
      }
    },
    {
      "cell_type": "code",
      "source": [
        "for i in range(5):  # Looping\n",
        "    if i == 1:  # Condition\n",
        "        continue\n",
        "    print(i)\n",
        "else:\n",
        "    print(\"Loop ended successfully.\")  # 'else' with 'for'"
      ],
      "metadata": {
        "colab": {
          "base_uri": "https://localhost:8080/"
        },
        "id": "C8jZbV-VroLp",
        "outputId": "66cb97d6-4e38-4925-a80c-1be3e4cde353"
      },
      "execution_count": null,
      "outputs": [
        {
          "output_type": "stream",
          "name": "stdout",
          "text": [
            "0\n",
            "2\n",
            "3\n",
            "4\n",
            "Loop ended successfully.\n"
          ]
        }
      ]
    },
    {
      "cell_type": "markdown",
      "source": [
        "python has 35 keyword upto 3.1 version."
      ],
      "metadata": {
        "id": "mgNltMQotjsm"
      }
    },
    {
      "cell_type": "code",
      "source": [
        "import keyword\n",
        "print(keyword.kwlist)"
      ],
      "metadata": {
        "colab": {
          "base_uri": "https://localhost:8080/"
        },
        "id": "PzugFkwHtjSl",
        "outputId": "3647018d-98bb-422d-93c8-4f0cf35c8133"
      },
      "execution_count": null,
      "outputs": [
        {
          "output_type": "stream",
          "name": "stdout",
          "text": [
            "['False', 'None', 'True', 'and', 'as', 'assert', 'async', 'await', 'break', 'class', 'continue', 'def', 'del', 'elif', 'else', 'except', 'finally', 'for', 'from', 'global', 'if', 'import', 'in', 'is', 'lambda', 'nonlocal', 'not', 'or', 'pass', 'raise', 'return', 'try', 'while', 'with', 'yield']\n"
          ]
        }
      ]
    },
    {
      "cell_type": "code",
      "source": [
        "import keyword\n",
        "print(len(keyword.kwlist))"
      ],
      "metadata": {
        "colab": {
          "base_uri": "https://localhost:8080/"
        },
        "id": "32ZPz7xbtHAg",
        "outputId": "d0b45f03-101e-4b03-c1a9-c0e67aca8e2b"
      },
      "execution_count": null,
      "outputs": [
        {
          "output_type": "stream",
          "name": "stdout",
          "text": [
            "35\n"
          ]
        }
      ]
    },
    {
      "cell_type": "markdown",
      "source": [
        "3.  **Compare and contrast mutable and immutable objects in Python with examples**\n",
        "\n",
        "Mutable -- Objects whose values can be changed after creation. exe-\n",
        "          Lists, dictionaries, sets.\n",
        "          Stored as references; changes reflect across references.\n",
        "\n",
        "Imutable -- Objects whose values cannot be changed once created.\n",
        "            Integers, strings, tuples.\n",
        "            New objects are created when changes are needed.\n",
        "            Ideal for fixed data or keys in dictionaries.\n",
        "            Generally faster due to no modification."
      ],
      "metadata": {
        "id": "FWEJZQZS6HVT"
      }
    },
    {
      "cell_type": "code",
      "source": [
        "#  (List) Mutable object\n",
        "fruits = [\"apple\", \"banana\", \"cherry\"]\n",
        "print(\"Original List:\", fruits)\n",
        "\n",
        "# Modifying the List\n",
        "fruits.append(\"orange\")\n",
        "print(\"Modified List:\", fruits)"
      ],
      "metadata": {
        "colab": {
          "base_uri": "https://localhost:8080/"
        },
        "id": "-E9i3MHOVvnP",
        "outputId": "cbd226d4-1c68-4b7d-838f-761fef2c6275"
      },
      "execution_count": null,
      "outputs": [
        {
          "output_type": "stream",
          "name": "stdout",
          "text": [
            "Original List: ['apple', 'banana', 'cherry']\n",
            "Modified List: ['apple', 'banana', 'cherry', 'orange']\n"
          ]
        }
      ]
    },
    {
      "cell_type": "code",
      "source": [
        "# Mutable\n",
        "a = [1, 2, 3]\n",
        "b = a   # here b points to the same list as a\n",
        "b.append(4)\n",
        "print(\"a:\", a)  # a is also modified\n",
        "print(\"b:\", b)\n",
        "\n",
        "# Immutable\n",
        "x = 10  #decalred as integer\n",
        "y = x  # y is a diff integer.\n",
        "y +1\n",
        "print(\"x:\", x)  # x remain unchanged\n",
        "print(\"y:\", y)\n"
      ],
      "metadata": {
        "colab": {
          "base_uri": "https://localhost:8080/"
        },
        "id": "Kp70VDivWHxi",
        "outputId": "67a4a3d9-56b4-4097-ddd2-a7c23e16bb64"
      },
      "execution_count": null,
      "outputs": [
        {
          "output_type": "stream",
          "name": "stdout",
          "text": [
            "a: [1, 2, 3, 4]\n",
            "b: [1, 2, 3, 4]\n",
            "x: 10\n",
            "y: 10\n"
          ]
        }
      ]
    },
    {
      "cell_type": "markdown",
      "source": [
        "Tuples---  tuples are immutable but if they contain mutable objects (eg.  lists), the mutable elements can be changed.\n"
      ],
      "metadata": {
        "id": "a3GRStzaYDIX"
      }
    },
    {
      "cell_type": "code",
      "source": [
        "tup = (1, [2, 3], 4)\n",
        "tup[1].append(5)  #  list inside the tuple , #tup[1]= tuple uses indexing, indicating list [2,3] whoes index value 1.\n",
        "print(tup)\n"
      ],
      "metadata": {
        "colab": {
          "base_uri": "https://localhost:8080/"
        },
        "id": "KXE4ZRZfYNid",
        "outputId": "9de35169-f746-49e2-b0f4-aa652721c104"
      },
      "execution_count": null,
      "outputs": [
        {
          "output_type": "stream",
          "name": "stdout",
          "text": [
            "(1, [2, 3, 5], 4)\n"
          ]
        }
      ]
    },
    {
      "cell_type": "markdown",
      "source": [
        "  4. ** Discuss the different types of operators in Python and provide examples of how they are used**\n",
        "\n",
        "In Python, operators are special symbols or keywords used to perform operations on values or variables.\n",
        "Arithmetic Operators :: + - * / ** // %\n",
        " Comparison (Relational) Operators :: like == !=, > , < , >= etc\n",
        "\n",
        " Logical: and, or, not\n",
        " Membership: in, not in\n"
      ],
      "metadata": {
        "id": "8kasuF83Z3Wn"
      }
    },
    {
      "cell_type": "code",
      "source": [
        "fruits = [\"apple\", \"banana\", \"cherry\"]\n",
        "print(\"apple\" in fruits)\n",
        "print(\"orange\" not in fruits)  # → True\n"
      ],
      "metadata": {
        "colab": {
          "base_uri": "https://localhost:8080/"
        },
        "id": "dkXU6QyGduiq",
        "outputId": "8f24df45-56fc-4802-e76b-3ff92179724e"
      },
      "execution_count": null,
      "outputs": [
        {
          "output_type": "stream",
          "name": "stdout",
          "text": [
            "True\n",
            "True\n"
          ]
        }
      ]
    },
    {
      "cell_type": "markdown",
      "source": [],
      "metadata": {
        "id": "w94goMlWqhyL"
      }
    },
    {
      "cell_type": "markdown",
      "source": [
        " 5. **Explain the concept of type casting in Python with examples**\n",
        "\n",
        " Type casting in Python refers to the process of converting one data type into another. Python supports both implicit type casting (automatic by the interpreter) and explicit type casting (manual by the programmer). This is particularly useful when dealing with mixed data types or when ensuring compatibility in operations.\n",
        "\n",
        " **Implicit Type Casting**\n",
        "Python automatically converts a smaller data type into a larger one to avoid data loss.\n",
        "For example, integers may be converted to floats during arithmetic operations.\n"
      ],
      "metadata": {
        "id": "d9QAcOqSrpY-"
      }
    },
    {
      "cell_type": "code",
      "source": [
        "# Implicit Type Casting\n",
        "a = 10\n",
        "b = 3.5\n",
        "result = a + b # Integer is converted to float automatically\n",
        "print(result)\n",
        "print(type(result))  # Output: <class 'float'>\n"
      ],
      "metadata": {
        "colab": {
          "base_uri": "https://localhost:8080/"
        },
        "id": "VsMewQO1sGye",
        "outputId": "247c97c8-ca85-4d1b-b570-6b39a4e88387"
      },
      "execution_count": null,
      "outputs": [
        {
          "output_type": "stream",
          "name": "stdout",
          "text": [
            "13.5\n",
            "<class 'float'>\n"
          ]
        }
      ]
    },
    {
      "cell_type": "markdown",
      "source": [
        "**Explicit Type Casting::**\n",
        "The programmer explicitly converts one type into another using built-in functions.\n",
        "Commonly used type-casting functions:\n",
        "int(): Converts to integer.\n",
        "float(): Converts to float.\n",
        "str(): Converts to string."
      ],
      "metadata": {
        "id": "a1m48ENWs3ix"
      }
    },
    {
      "cell_type": "code",
      "source": [
        "x = 100  # Integer\n",
        "y = str(x)\n",
        "print(y)\n",
        "print(type(y))  # Output: <class 'str'>\n"
      ],
      "metadata": {
        "colab": {
          "base_uri": "https://localhost:8080/"
        },
        "id": "V5mlCpZFtUKh",
        "outputId": "128948b1-7683-46f4-de40-9372606e016c"
      },
      "execution_count": null,
      "outputs": [
        {
          "output_type": "stream",
          "name": "stdout",
          "text": [
            "100\n",
            "<class 'str'>\n"
          ]
        }
      ]
    },
    {
      "cell_type": "code",
      "source": [
        "# list to tuple conversion\n",
        "lst = [1, 2, 3]\n",
        "tup = tuple(lst)\n",
        "print(tup)\n",
        "print(type(tup))\n"
      ],
      "metadata": {
        "colab": {
          "base_uri": "https://localhost:8080/"
        },
        "id": "X642YYlatqUw",
        "outputId": "2a3ddbe2-cab8-4d22-f2b9-96a64c1a48dd"
      },
      "execution_count": null,
      "outputs": [
        {
          "output_type": "stream",
          "name": "stdout",
          "text": [
            "(1, 2, 3)\n",
            "<class 'tuple'>\n"
          ]
        }
      ]
    },
    {
      "cell_type": "markdown",
      "source": [
        "6.  ** How do conditional statements work in Python? Illustrate with examples**\n",
        "\n",
        "In Python, conditional statements are used to perform different actions based on whether a condition evaluates to True or False. They allow decision-making within a program. The main conditional statements in Python are:\n",
        "\n",
        "if Statement\n",
        "\n",
        "if-else Statement\n",
        "\n",
        "if-elif-else Statement\n",
        "\n",
        "Nested if Statements\n"
      ],
      "metadata": {
        "id": "BT2Gyh9_uPWI"
      }
    },
    {
      "cell_type": "code",
      "source": [
        "number = 15\n",
        "if number < 10:\n",
        "    print(\"The number is less than 10.\")\n",
        "elif 10 <= number <= 20:\n",
        "    print(\"The number is between 10 and 20.\")\n",
        "else:\n",
        "    print(\"The number is greater than 20.\")\n"
      ],
      "metadata": {
        "colab": {
          "base_uri": "https://localhost:8080/"
        },
        "id": "XOj8NJI8iD8q",
        "outputId": "05471cd2-3935-4514-a8e6-b776f05e6969"
      },
      "execution_count": null,
      "outputs": [
        {
          "output_type": "stream",
          "name": "stdout",
          "text": [
            "The number is between 10 and 20.\n"
          ]
        }
      ]
    },
    {
      "cell_type": "code",
      "source": [
        "number = 8       #Nested if Statements#\n",
        "if number > 5:\n",
        "    if number % 2 == 0:\n",
        "        print(\"The number is greater than 5 and even.\")\n",
        "    else:\n",
        "        print(\"The number is greater than 5 and odd.\")\n"
      ],
      "metadata": {
        "colab": {
          "base_uri": "https://localhost:8080/"
        },
        "id": "g-PBiYIqjBOY",
        "outputId": "7bb558a7-20df-4ede-f4d2-ae4ccb9c20bf"
      },
      "execution_count": null,
      "outputs": [
        {
          "output_type": "stream",
          "name": "stdout",
          "text": [
            "The number is greater than 5 and even.\n"
          ]
        }
      ]
    },
    {
      "cell_type": "markdown",
      "source": [
        "7. **Describe the different types of loops in Python and their use cases with examples**\n",
        "\n",
        "In Python, loops are used to repeat a block of code multiple times based on conditions. The main types of loops are:\n",
        "\n",
        "for Loop\n",
        " while Loop\n",
        "\n",
        "for Loop\n",
        "Used to iterate over a sequence (like lists, tuples, dictionaries, strings, or ranges).\n",
        " The number of iterations is typically predetermined."
      ],
      "metadata": {
        "id": "FgVrUVteqJqC"
      }
    },
    {
      "cell_type": "code",
      "source": [
        "for i in range(1, 6):  # Iterates\n",
        "    print(f\"Number: {i}\")\n"
      ],
      "metadata": {
        "colab": {
          "base_uri": "https://localhost:8080/"
        },
        "id": "G1vG2QUg2sIO",
        "outputId": "46c271c2-3f28-4bcb-a718-27ecdc087d7a"
      },
      "execution_count": null,
      "outputs": [
        {
          "output_type": "stream",
          "name": "stdout",
          "text": [
            "Number: 1\n",
            "Number: 2\n",
            "Number: 3\n",
            "Number: 4\n",
            "Number: 5\n"
          ]
        }
      ]
    },
    {
      "cell_type": "markdown",
      "source": [
        "**while Loop**\n",
        "Repeats a block of code as long as the condition is True.\n",
        "\n",
        " Use it when the number of iterations is not known in advance."
      ],
      "metadata": {
        "id": "tRuvgONW3IDk"
      }
    },
    {
      "cell_type": "code",
      "source": [
        "count = 0\n",
        "while count < 5:\n",
        "    print(f\"the number  is : {count}\")\n",
        "    count += 1\n"
      ],
      "metadata": {
        "colab": {
          "base_uri": "https://localhost:8080/"
        },
        "id": "yPvLZ7E7aqzf",
        "outputId": "bae8f737-9caa-4aac-f5c3-bfd4796a8be4"
      },
      "execution_count": null,
      "outputs": [
        {
          "output_type": "stream",
          "name": "stdout",
          "text": [
            "the number  is : 0\n",
            "the number  is : 1\n",
            "the number  is : 2\n",
            "the number  is : 3\n",
            "the number  is : 4\n"
          ]
        }
      ]
    },
    {
      "cell_type": "markdown",
      "source": [
        "**Control Statements in Loops**\n",
        "\n",
        "Python provides control statements to alter the flow of loops:\n",
        "\n",
        "break: Exits the loop prematurely.\n",
        "\n",
        "continue: Skips the current iteration and moves to the next one.\n"
      ],
      "metadata": {
        "id": "d15oSFqbbYHA"
      }
    },
    {
      "cell_type": "code",
      "source": [
        "for number in range(5):\n",
        "    if number == 2:\n",
        "        continue  # Skip iteration  numer=2\n",
        "    print(number)\n"
      ],
      "metadata": {
        "id": "wCY7Tb0absn8"
      },
      "execution_count": null,
      "outputs": []
    }
  ]
}